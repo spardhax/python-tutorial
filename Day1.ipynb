{
 "cells": [
  {
   "cell_type": "markdown",
   "metadata": {},
   "source": [
    "### 24.1.21"
   ]
  },
  {
   "cell_type": "markdown",
   "metadata": {},
   "source": [
    "## 3 Easy"
   ]
  },
  {
   "cell_type": "markdown",
   "metadata": {},
   "source": [
    "Question 1\\\n",
    "Input:\\\n",
    "1: N= number of elements in array\\\n",
    "2: enter N elements with one space\n",
    "\n",
    "Output:\\\n",
    "1: mean\\\n",
    "2: median\\\n",
    "3: mode"
   ]
  },
  {
   "cell_type": "code",
   "execution_count": 1,
   "metadata": {},
   "outputs": [],
   "source": [
    "from statistics import mean, median, mode"
   ]
  },
  {
   "cell_type": "code",
   "execution_count": null,
   "metadata": {},
   "outputs": [],
   "source": [
    "N= int(input().strip())\n",
    "#strip removes any space or character; strip(\",.\") will remove commas and fullstops\n",
    "\n",
    "arr=[int(i) for i in input().strip().split(' ')]\n",
    "#split converts string to a list; split(',') will split elements between commas\n",
    "\n",
    "arr.sort()\n",
    "#default is ascending order\n",
    "\n",
    "print('{0:.1f}'.format(sum(arr)/N))\n",
    "#1f formats or replaces mean by 1 precision unit.f is used to represent floating number. 0 is the width.\n",
    "\n",
    "if N%2==1:\n",
    "    print('{0:.1f}'.format(arr[int((N-1)/2)]))\n",
    "else:\n",
    "    print('{0:.1f}'.format(0.5*(arr[int(N/2)-1]+arr[int(N/1)])))\n",
    "    \n",
    "counts=[]\n",
    "for i in arr:\n",
    "    counts.append(arr.count(i))\n",
    "if max(counts)>1:\n",
    "    print(arr[counts.index(max(counts))])\n",
    "else:\n",
    "    print(min(arr))\n"
   ]
  },
  {
   "cell_type": "code",
   "execution_count": 3,
   "metadata": {},
   "outputs": [
    {
     "name": "stdout",
     "output_type": "stream",
     "text": [
      "The return type of range() is : \n",
      "<class 'range'>\n",
      "The return type of xrange() is : \n",
      "<class 'range'>\n"
     ]
    }
   ],
   "source": [
    "# Python code to demonstrate range() vs xrange() \n",
    "# on basis of return type \n",
    "\n",
    "# initializing a with range() \n",
    "a = range(1,10000) \n",
    "\n",
    "# initializing a with xrange() \n",
    "x = range(1,10000) \n",
    "\n",
    "# testing the type of a \n",
    "print (\"The return type of range() is : \") \n",
    "print (type(a)) \n",
    "\n",
    "# testing the type of x \n",
    "print (\"The return type of xrange() is : \") \n",
    "print (type(x)) "
   ]
  },
  {
   "cell_type": "code",
   "execution_count": null,
   "metadata": {},
   "outputs": [],
   "source": []
  },
  {
   "cell_type": "code",
   "execution_count": null,
   "metadata": {},
   "outputs": [],
   "source": []
  }
 ],
 "metadata": {
  "kernelspec": {
   "display_name": "Python 3",
   "language": "python",
   "name": "python3"
  },
  "language_info": {
   "codemirror_mode": {
    "name": "ipython",
    "version": 3
   },
   "file_extension": ".py",
   "mimetype": "text/x-python",
   "name": "python",
   "nbconvert_exporter": "python",
   "pygments_lexer": "ipython3",
   "version": "3.7.4"
  }
 },
 "nbformat": 4,
 "nbformat_minor": 4
}
